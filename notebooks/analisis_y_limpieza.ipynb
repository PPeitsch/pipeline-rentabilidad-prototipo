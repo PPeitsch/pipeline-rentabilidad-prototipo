{
 "cells": [
  {
   "cell_type": "markdown",
   "metadata": {
    "id": "eY11WrpEqoGl"
   },
   "source": [
    "# Análisis Exploratorio y Limpieza de Datos (Refactorizado para Ejecución Local)"
   ]
  },
  {
   "cell_type": "markdown",
   "metadata": {
    "id": "tOTAbfYWriw3"
   },
   "source": [
    "## 1. Configuración de Entorno y Carga de Datos\n",
    "\n",
    "Se importan las librerías necesarias, se configura el entorno y se cargan los datos crudos desde el directorio local `data/`."
   ]
  },
  {
   "cell_type": "code",
   "execution_count": null,
   "metadata": {
    "id": "tZc1UHWypjl0"
   },
   "outputs": [],
   "source": [
    "import pandas as pd\n",
    "import numpy as np\n",
    "import matplotlib.pyplot as plt\n",
    "import seaborn as sns\n",
    "import missingno as msno\n",
    "import sys\n",
    "import os\n",
    "\n",
    "# Add src directory to path to import our custom module\n",
    "# This makes the notebook runnable from the 'notebooks' directory\n",
    "sys.path.insert(0, os.path.abspath(os.path.join(os.getcwd(), '..', 'src')))\n",
    "from data_cleaner import run_cleaning_pipeline\n",
    "\n",
    "# Set plotting style\n",
    "sns.set_theme(style=\"whitegrid\")\n",
    "\n",
    "# Define relative file paths\n",
    "project_root = os.path.abspath(os.path.join(os.getcwd(), '..'))\n",
    "input_file_path = os.path.join(project_root, 'data', 'rentabilidad_productos.csv')\n",
    "output_file_path = os.path.join(project_root, 'data', 'rentabilidad_productos_limpio.parquet')"
   ]
  },
  {
   "cell_type": "code",
   "execution_count": null,
   "metadata": {
    "id": "4t74GQZQqriZ"
   },
   "outputs": [],
   "source": [
    "# Load the raw dataset\n",
    "try:\n",
    "    df_raw = pd.read_csv(input_file_path)\n",
    "    print(f\"DataFrame crudo cargado con {df_raw.shape[0]} filas y {df_raw.shape[1]} columnas.\")\n",
    "    display(df_raw.head())\n",
    "except FileNotFoundError:\n",
    "    print(f\"Error: El archivo no se encontró en la ruta esperada: {input_file_path}\")\n",
    "    print(\"Por favor, asegúrese de que 'rentabilidad_productos.csv' exista en el directorio 'data'.\")"
   ]
  },
  {
   "cell_type": "markdown",
   "metadata": {
    "id": "75fx-KeWsKrL"
   },
   "source": [
    "## 2. Análisis Exploratorio de Datos Crudos (EDA)\n",
    "\n",
    "Se explora el DataFrame original para identificar problemas de calidad de datos antes de la limpieza."
   ]
  },
  {
   "cell_type": "markdown",
   "metadata": {
    "id": "SEpIrynjsuGO"
   },
   "source": [
    "### 2.1. Tipos de Datos y Resumen General"
   ]
  },
  {
   "cell_type": "code",
   "execution_count": null,
   "metadata": {
    "id": "oHlYtznHs0f-"
   },
   "outputs": [],
   "source": [
    "df_raw.info()"
   ]
  },
  {
   "cell_type": "markdown",
   "metadata": {
    "id": "iy2TEtJzuZGj"
   },
   "source": [
    "### 2.2. Análisis de Valores Nulos"
   ]
  },
  {
   "cell_type": "code",
   "execution_count": null,
   "metadata": {
    "id": "1-es6YLXuT7N"
   },
   "outputs": [],
   "source": [
    "missing_values = df_raw.isnull().sum()\n",
    "missing_percentage = (missing_values / len(df_raw)) * 100\n",
    "missing_df = pd.DataFrame({'count': missing_values, 'percentage': missing_percentage})\n",
    "missing_df = missing_df[missing_df['count'] > 0].sort_values(by='count', ascending=False)\n",
    "\n",
    "print(f\"Se encontraron {len(missing_df)} columnas con valores nulos en los datos crudos.\")\n",
    "display(missing_df)\n",
    "\n",
    "msno.matrix(df_raw)\n",
    "plt.show()"
   ]
  },
  {
   "cell_type": "markdown",
   "metadata": {
    "id": "CmmuR0dfuhf-"
   },
   "source": [
    "### 2.3. Análisis de Duplicados en Clave Primaria (SKU)"
   ]
  },
  {
   "cell_type": "code",
   "execution_count": null,
   "metadata": {
    "id": "iBL15PYRugq2"
   },
   "outputs": [],
   "source": [
    "# We need to normalize column names first to access 'sku' reliably\n",
    "temp_df = df_raw.copy()\n",
    "temp_df.columns = temp_df.columns.str.strip().str.lower()\n",
    "\n",
    "sku_counts = temp_df.sku.value_counts()\n",
    "duplicated_skus = sku_counts[sku_counts > 1]\n",
    "\n",
    "print(f\"Análisis de duplicados de SKU:\")\n",
    "print(f\"- Hay {len(sku_counts)} SKUs únicos de un total de {len(temp_df)} registros.\")\n",
    "print(f\"- Se encontraron {len(duplicated_skus)} SKUs con registros duplicados.\")"
   ]
  },
  {
   "cell_type": "markdown",
   "metadata": {
    "id": "yx_8dH-lug67"
   },
   "source": [
    "## 3. Proceso de Limpieza de Datos\n",
    "\n",
    "Se invoca el pipeline de limpieza definido en el módulo `data_cleaner` para procesar el DataFrame."
   ]
  },
  {
   "cell_type": "code",
   "execution_count": null,
   "metadata": {
    "id": "4lgtnlv6vaTL"
   },
   "outputs": [],
   "source": [
    "df_cleaned = run_cleaning_pipeline(df_raw)"
   ]
  },
  {
   "cell_type": "markdown",
   "metadata": {
    "id": "aBcDeFgHiJkL"
   },
   "source": [
    "## 4. Verificación y Análisis de Datos Limpios\n",
    "\n",
    "Se realizan una serie de verificaciones y visualizaciones sobre el DataFrame limpio para asegurar la calidad del proceso."
   ]
  },
  {
   "cell_type": "markdown",
   "metadata": {
    "id": "LmNoPqRsTuVw"
   },
   "source": [
    "### 4.1. Verificación de Tipos de Datos y Nulos"
   ]
  },
  {
   "cell_type": "code",
   "execution_count": null,
   "metadata": {
    "id": "MCxNzWbfwu2d"
   },
   "outputs": [],
   "source": [
    "print(\"--- Tipos de datos después de la limpieza ---\")\n",
    "df_cleaned.info()\n",
    "\n",
    "print(\"\\n--- Conteo de Nulos Restantes ---\")\n",
    "print(df_cleaned.isnull().sum())"
   ]
  },
  {
   "cell_type": "markdown",
   "metadata": {
    "id": "1Q3DEQvOvo-T"
   },
   "source": [
    "### 4.2. Verificación de Integridad de Datos (Cálculo de Margen)"
   ]
  },
  {
   "cell_type": "code",
   "execution_count": null,
   "metadata": {
    "id": "3mnhY3sA1g88"
   },
   "outputs": [],
   "source": [
    "df_cleaned['margen_calculado'] = df_cleaned['precio_venta'] - df_cleaned['precio_compra']\n",
    "df_cleaned['margen_diferencia'] = (df_cleaned['margen'] - df_cleaned['margen_calculado']).abs()\n",
    "\n",
    "discrepancies = df_cleaned[df_cleaned['margen_diferencia'] > 0.01] # Use tolerance for float precision\n",
    "\n",
    "print(f\"Se encontraron {len(discrepancies)} filas con una diferencia mayor a 0.01 entre el margen reportado y el calculado.\")"
   ]
  },
  {
   "cell_type": "markdown",
   "metadata": {
    "id": "XyZ123AbCdEf"
   },
   "source": [
    "### 4.3. Resumen Estadístico del DataFrame Limpio"
   ]
  },
  {
   "cell_type": "code",
   "execution_count": null,
   "metadata": {
    "id": "azvap2mVwr1P"
   },
   "outputs": [],
   "source": [
    "display(df_cleaned.describe(include='all').T)"
   ]
  },
  {
   "cell_type": "markdown",
   "metadata": {
    "id": "J2YEissO3jWD"
   },
   "source": [
    "### 4.4. Distribución de Variables Numéricas Limpias"
   ]
  },
  {
   "cell_type": "code",
   "execution_count": null,
   "metadata": {
    "id": "zUPalz6U2WnC"
   },
   "outputs": [],
   "source": [
    "for col in ['precio_compra', 'precio_venta', 'margen']:\n",
    "    fig, axes = plt.subplots(1, 2, figsize=(15, 4))\n",
    "    fig.suptitle(f\"Análisis de la columna numérica limpia: '{col}'\", fontsize=16)\n",
    "\n",
    "    sns.histplot(df_cleaned[col], kde=True, ax=axes[0])\n",
    "    axes[0].set_title('Distribución (Histograma)')\n",
    "\n",
    "    sns.boxplot(x=df_cleaned[col], ax=axes[1])\n",
    "    axes[1].set_title('Diagrama de Caja (Boxplot)')\n",
    "\n",
    "    plt.tight_layout(rect=[0, 0.03, 1, 0.95])\n",
    "    plt.show()"
   ]
  },
  {
   "cell_type": "markdown",
   "metadata": {
    "id": "_Wh7AW7evprf"
   },
   "source": [
    "## 5. Almacenamiento del DataFrame Limpio\n",
    "\n",
    "Se guarda el DataFrame limpio y validado en formato Parquet en el directorio `data/`."
   ]
  },
  {
   "cell_type": "code",
   "execution_count": null,
   "metadata": {
    "id": "3Xc6m1KcvsdJ"
   },
   "outputs": [],
   "source": [
    "# Drop temporary columns used for verification before saving\n",
    "final_df_to_save = df_cleaned.drop(columns=['margen_calculado', 'margen_diferencia'])\n",
    "\n",
    "final_df_to_save.to_parquet(output_file_path, index=False, engine='pyarrow')\n",
    "\n",
    "print(f\"DataFrame limpio con {len(final_df_to_save)} filas guardado exitosamente en: {output_file_path}\")"
   ]
  }
 ],
 "metadata": {
  "colab": {
   "provenance": []
  },
  "kernelspec": {
   "display_name": "Python 3 (ipykernel)",
   "language": "python",
   "name": "python3"
  },
  "language_info": {
   "name": "python"
  }
 },
 "nbformat": 4,
 "nbformat_minor": 0
}
